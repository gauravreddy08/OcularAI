{
  "nbformat": 4,
  "nbformat_minor": 0,
  "metadata": {
    "accelerator": "GPU",
    "colab": {
      "name": "ProjectNotBlind.ipynb",
      "provenance": [],
      "collapsed_sections": [],
      "authorship_tag": "ABX9TyPkASWIYliALvMuWlOYWnmA",
      "include_colab_link": true
    },
    "kernelspec": {
      "display_name": "Python 3",
      "name": "python3"
    },
    "language_info": {
      "name": "python"
    }
  },
  "cells": [
    {
      "cell_type": "markdown",
      "metadata": {
        "id": "view-in-github",
        "colab_type": "text"
      },
      "source": [
        "<a href=\"https://colab.research.google.com/github/gaurxvreddy/ProjectBlind/blob/main/ProjectNotBlind.ipynb\" target=\"_parent\"><img src=\"https://colab.research.google.com/assets/colab-badge.svg\" alt=\"Open In Colab\"/></a>"
      ]
    },
    {
      "cell_type": "code",
      "metadata": {
        "id": "ovdbVIWy_dDl"
      },
      "source": [
        "import tensorflow as tf\n",
        "import tensorflow_hub as hub\n",
        "import numpy as np\n",
        "import pandas as pd\n",
        "import matplotlib.pyplot as plt\n",
        "import cv2\n",
        "%matplotlib inline"
      ],
      "execution_count": 12,
      "outputs": []
    },
    {
      "cell_type": "code",
      "metadata": {
        "colab": {
          "base_uri": "https://localhost:8080/"
        },
        "id": "YxdbVLvS_ySN",
        "outputId": "9f4276ad-2ceb-47ca-8b89-771425bbc65b"
      },
      "source": [
        "!git clone --depth 1 https://github.com/tensorflow/models"
      ],
      "execution_count": 13,
      "outputs": [
        {
          "output_type": "stream",
          "name": "stdout",
          "text": [
            "fatal: destination path 'models' already exists and is not an empty directory.\n"
          ]
        }
      ]
    },
    {
      "cell_type": "code",
      "metadata": {
        "id": "Ez7TpNr51X62",
        "colab": {
          "base_uri": "https://localhost:8080/"
        },
        "outputId": "0efbe0bd-ef91-4a14-fa11-c7beff803696"
      },
      "source": [
        "!sudo apt install -y protobuf-compiler\n",
        "%cd models/research/\n",
        "!protoc object_detection/protos/*.proto --python_out=.\n",
        "!cp object_detection/packages/tf2/setup.py .\n",
        "!python -m pip install ."
      ],
      "execution_count": 14,
      "outputs": [
        {
          "output_type": "stream",
          "name": "stdout",
          "text": [
            "Reading package lists... Done\n",
            "Building dependency tree       \n",
            "Reading state information... Done\n",
            "protobuf-compiler is already the newest version (3.0.0-9.1ubuntu1).\n",
            "0 upgraded, 0 newly installed, 0 to remove and 37 not upgraded.\n",
            "/content/models/research\n",
            "Processing /content/models/research\n",
            "\u001b[33m  DEPRECATION: A future pip version will change local packages to be built in-place without first copying to a temporary directory. We recommend you use --use-feature=in-tree-build to test your packages with this new behavior before it becomes the default.\n",
            "   pip 21.3 will remove support for this functionality. You can find discussion regarding this at https://github.com/pypa/pip/issues/7555.\u001b[0m\n",
            "Requirement already satisfied: avro-python3 in /usr/local/lib/python3.7/dist-packages (from object-detection==0.1) (1.9.2.1)\n",
            "Requirement already satisfied: apache-beam in /usr/local/lib/python3.7/dist-packages (from object-detection==0.1) (2.33.0)\n",
            "Requirement already satisfied: pillow in /usr/local/lib/python3.7/dist-packages (from object-detection==0.1) (7.1.2)\n",
            "Requirement already satisfied: lxml in /usr/local/lib/python3.7/dist-packages (from object-detection==0.1) (4.2.6)\n",
            "Requirement already satisfied: matplotlib in /usr/local/lib/python3.7/dist-packages (from object-detection==0.1) (3.2.2)\n",
            "Requirement already satisfied: Cython in /usr/local/lib/python3.7/dist-packages (from object-detection==0.1) (0.29.24)\n",
            "Requirement already satisfied: contextlib2 in /usr/local/lib/python3.7/dist-packages (from object-detection==0.1) (0.5.5)\n",
            "Requirement already satisfied: tf-slim in /usr/local/lib/python3.7/dist-packages (from object-detection==0.1) (1.1.0)\n",
            "Requirement already satisfied: six in /usr/local/lib/python3.7/dist-packages (from object-detection==0.1) (1.15.0)\n",
            "Requirement already satisfied: pycocotools in /usr/local/lib/python3.7/dist-packages (from object-detection==0.1) (2.0.2)\n",
            "Requirement already satisfied: lvis in /usr/local/lib/python3.7/dist-packages (from object-detection==0.1) (0.5.3)\n",
            "Requirement already satisfied: scipy in /usr/local/lib/python3.7/dist-packages (from object-detection==0.1) (1.4.1)\n",
            "Requirement already satisfied: pandas in /usr/local/lib/python3.7/dist-packages (from object-detection==0.1) (1.1.5)\n",
            "Requirement already satisfied: tf-models-official>=2.5.1 in /usr/local/lib/python3.7/dist-packages (from object-detection==0.1) (2.6.0)\n",
            "Requirement already satisfied: tensorflow-hub>=0.6.0 in /usr/local/lib/python3.7/dist-packages (from tf-models-official>=2.5.1->object-detection==0.1) (0.12.0)\n",
            "Requirement already satisfied: kaggle>=1.3.9 in /usr/local/lib/python3.7/dist-packages (from tf-models-official>=2.5.1->object-detection==0.1) (1.5.12)\n",
            "Requirement already satisfied: pyyaml>=5.1 in /usr/local/lib/python3.7/dist-packages (from tf-models-official>=2.5.1->object-detection==0.1) (6.0)\n",
            "Requirement already satisfied: numpy>=1.15.4 in /usr/local/lib/python3.7/dist-packages (from tf-models-official>=2.5.1->object-detection==0.1) (1.19.5)\n",
            "Requirement already satisfied: py-cpuinfo>=3.3.0 in /usr/local/lib/python3.7/dist-packages (from tf-models-official>=2.5.1->object-detection==0.1) (8.0.0)\n",
            "Requirement already satisfied: seqeval in /usr/local/lib/python3.7/dist-packages (from tf-models-official>=2.5.1->object-detection==0.1) (1.2.2)\n",
            "Requirement already satisfied: opencv-python-headless in /usr/local/lib/python3.7/dist-packages (from tf-models-official>=2.5.1->object-detection==0.1) (4.5.3.56)\n",
            "Requirement already satisfied: gin-config in /usr/local/lib/python3.7/dist-packages (from tf-models-official>=2.5.1->object-detection==0.1) (0.4.0)\n",
            "Requirement already satisfied: tensorflow-addons in /usr/local/lib/python3.7/dist-packages (from tf-models-official>=2.5.1->object-detection==0.1) (0.14.0)\n",
            "Requirement already satisfied: sacrebleu in /usr/local/lib/python3.7/dist-packages (from tf-models-official>=2.5.1->object-detection==0.1) (2.0.0)\n",
            "Requirement already satisfied: tensorflow-text>=2.5.0 in /usr/local/lib/python3.7/dist-packages (from tf-models-official>=2.5.1->object-detection==0.1) (2.6.0)\n",
            "Requirement already satisfied: sentencepiece in /usr/local/lib/python3.7/dist-packages (from tf-models-official>=2.5.1->object-detection==0.1) (0.1.96)\n",
            "Requirement already satisfied: psutil>=5.4.3 in /usr/local/lib/python3.7/dist-packages (from tf-models-official>=2.5.1->object-detection==0.1) (5.4.8)\n",
            "Requirement already satisfied: tensorflow-model-optimization>=0.4.1 in /usr/local/lib/python3.7/dist-packages (from tf-models-official>=2.5.1->object-detection==0.1) (0.7.0)\n",
            "Requirement already satisfied: oauth2client in /usr/local/lib/python3.7/dist-packages (from tf-models-official>=2.5.1->object-detection==0.1) (4.1.3)\n",
            "Requirement already satisfied: tensorflow>=2.5.0 in /usr/local/lib/python3.7/dist-packages (from tf-models-official>=2.5.1->object-detection==0.1) (2.6.0)\n",
            "Requirement already satisfied: tensorflow-datasets in /usr/local/lib/python3.7/dist-packages (from tf-models-official>=2.5.1->object-detection==0.1) (4.0.1)\n",
            "Requirement already satisfied: google-api-python-client>=1.6.7 in /usr/local/lib/python3.7/dist-packages (from tf-models-official>=2.5.1->object-detection==0.1) (1.12.8)\n",
            "Requirement already satisfied: httplib2<1dev,>=0.15.0 in /usr/local/lib/python3.7/dist-packages (from google-api-python-client>=1.6.7->tf-models-official>=2.5.1->object-detection==0.1) (0.17.4)\n",
            "Requirement already satisfied: google-auth-httplib2>=0.0.3 in /usr/local/lib/python3.7/dist-packages (from google-api-python-client>=1.6.7->tf-models-official>=2.5.1->object-detection==0.1) (0.0.4)\n",
            "Requirement already satisfied: google-auth>=1.16.0 in /usr/local/lib/python3.7/dist-packages (from google-api-python-client>=1.6.7->tf-models-official>=2.5.1->object-detection==0.1) (1.35.0)\n",
            "Requirement already satisfied: uritemplate<4dev,>=3.0.0 in /usr/local/lib/python3.7/dist-packages (from google-api-python-client>=1.6.7->tf-models-official>=2.5.1->object-detection==0.1) (3.0.1)\n",
            "Requirement already satisfied: google-api-core<2dev,>=1.21.0 in /usr/local/lib/python3.7/dist-packages (from google-api-python-client>=1.6.7->tf-models-official>=2.5.1->object-detection==0.1) (1.26.3)\n",
            "Requirement already satisfied: setuptools>=40.3.0 in /usr/local/lib/python3.7/dist-packages (from google-api-core<2dev,>=1.21.0->google-api-python-client>=1.6.7->tf-models-official>=2.5.1->object-detection==0.1) (57.4.0)\n",
            "Requirement already satisfied: packaging>=14.3 in /usr/local/lib/python3.7/dist-packages (from google-api-core<2dev,>=1.21.0->google-api-python-client>=1.6.7->tf-models-official>=2.5.1->object-detection==0.1) (21.0)\n",
            "Requirement already satisfied: pytz in /usr/local/lib/python3.7/dist-packages (from google-api-core<2dev,>=1.21.0->google-api-python-client>=1.6.7->tf-models-official>=2.5.1->object-detection==0.1) (2018.9)\n",
            "Requirement already satisfied: googleapis-common-protos<2.0dev,>=1.6.0 in /usr/local/lib/python3.7/dist-packages (from google-api-core<2dev,>=1.21.0->google-api-python-client>=1.6.7->tf-models-official>=2.5.1->object-detection==0.1) (1.53.0)\n",
            "Requirement already satisfied: requests<3.0.0dev,>=2.18.0 in /usr/local/lib/python3.7/dist-packages (from google-api-core<2dev,>=1.21.0->google-api-python-client>=1.6.7->tf-models-official>=2.5.1->object-detection==0.1) (2.26.0)\n",
            "Requirement already satisfied: protobuf>=3.12.0 in /usr/local/lib/python3.7/dist-packages (from google-api-core<2dev,>=1.21.0->google-api-python-client>=1.6.7->tf-models-official>=2.5.1->object-detection==0.1) (3.17.3)\n",
            "Requirement already satisfied: pyasn1-modules>=0.2.1 in /usr/local/lib/python3.7/dist-packages (from google-auth>=1.16.0->google-api-python-client>=1.6.7->tf-models-official>=2.5.1->object-detection==0.1) (0.2.8)\n",
            "Requirement already satisfied: rsa<5,>=3.1.4 in /usr/local/lib/python3.7/dist-packages (from google-auth>=1.16.0->google-api-python-client>=1.6.7->tf-models-official>=2.5.1->object-detection==0.1) (4.7.2)\n",
            "Requirement already satisfied: cachetools<5.0,>=2.0.0 in /usr/local/lib/python3.7/dist-packages (from google-auth>=1.16.0->google-api-python-client>=1.6.7->tf-models-official>=2.5.1->object-detection==0.1) (4.2.4)\n",
            "Requirement already satisfied: python-dateutil in /usr/local/lib/python3.7/dist-packages (from kaggle>=1.3.9->tf-models-official>=2.5.1->object-detection==0.1) (2.8.2)\n",
            "Requirement already satisfied: tqdm in /usr/local/lib/python3.7/dist-packages (from kaggle>=1.3.9->tf-models-official>=2.5.1->object-detection==0.1) (4.62.3)\n",
            "Requirement already satisfied: certifi in /usr/local/lib/python3.7/dist-packages (from kaggle>=1.3.9->tf-models-official>=2.5.1->object-detection==0.1) (2021.5.30)\n",
            "Requirement already satisfied: urllib3 in /usr/local/lib/python3.7/dist-packages (from kaggle>=1.3.9->tf-models-official>=2.5.1->object-detection==0.1) (1.24.3)\n",
            "Requirement already satisfied: python-slugify in /usr/local/lib/python3.7/dist-packages (from kaggle>=1.3.9->tf-models-official>=2.5.1->object-detection==0.1) (5.0.2)\n",
            "Requirement already satisfied: pyparsing>=2.0.2 in /usr/local/lib/python3.7/dist-packages (from packaging>=14.3->google-api-core<2dev,>=1.21.0->google-api-python-client>=1.6.7->tf-models-official>=2.5.1->object-detection==0.1) (2.4.7)\n",
            "Requirement already satisfied: pyasn1<0.5.0,>=0.4.6 in /usr/local/lib/python3.7/dist-packages (from pyasn1-modules>=0.2.1->google-auth>=1.16.0->google-api-python-client>=1.6.7->tf-models-official>=2.5.1->object-detection==0.1) (0.4.8)\n",
            "Requirement already satisfied: idna<4,>=2.5 in /usr/local/lib/python3.7/dist-packages (from requests<3.0.0dev,>=2.18.0->google-api-core<2dev,>=1.21.0->google-api-python-client>=1.6.7->tf-models-official>=2.5.1->object-detection==0.1) (2.10)\n",
            "Requirement already satisfied: charset-normalizer~=2.0.0 in /usr/local/lib/python3.7/dist-packages (from requests<3.0.0dev,>=2.18.0->google-api-core<2dev,>=1.21.0->google-api-python-client>=1.6.7->tf-models-official>=2.5.1->object-detection==0.1) (2.0.6)\n",
            "Requirement already satisfied: astunparse~=1.6.3 in /usr/local/lib/python3.7/dist-packages (from tensorflow>=2.5.0->tf-models-official>=2.5.1->object-detection==0.1) (1.6.3)\n",
            "Requirement already satisfied: tensorflow-estimator~=2.6 in /usr/local/lib/python3.7/dist-packages (from tensorflow>=2.5.0->tf-models-official>=2.5.1->object-detection==0.1) (2.6.0)\n",
            "Requirement already satisfied: grpcio<2.0,>=1.37.0 in /usr/local/lib/python3.7/dist-packages (from tensorflow>=2.5.0->tf-models-official>=2.5.1->object-detection==0.1) (1.41.0)\n",
            "Requirement already satisfied: flatbuffers~=1.12.0 in /usr/local/lib/python3.7/dist-packages (from tensorflow>=2.5.0->tf-models-official>=2.5.1->object-detection==0.1) (1.12)\n",
            "Requirement already satisfied: opt-einsum~=3.3.0 in /usr/local/lib/python3.7/dist-packages (from tensorflow>=2.5.0->tf-models-official>=2.5.1->object-detection==0.1) (3.3.0)\n",
            "Requirement already satisfied: gast==0.4.0 in /usr/local/lib/python3.7/dist-packages (from tensorflow>=2.5.0->tf-models-official>=2.5.1->object-detection==0.1) (0.4.0)\n",
            "Requirement already satisfied: h5py~=3.1.0 in /usr/local/lib/python3.7/dist-packages (from tensorflow>=2.5.0->tf-models-official>=2.5.1->object-detection==0.1) (3.1.0)\n",
            "Requirement already satisfied: absl-py~=0.10 in /usr/local/lib/python3.7/dist-packages (from tensorflow>=2.5.0->tf-models-official>=2.5.1->object-detection==0.1) (0.12.0)\n",
            "Requirement already satisfied: tensorboard~=2.6 in /usr/local/lib/python3.7/dist-packages (from tensorflow>=2.5.0->tf-models-official>=2.5.1->object-detection==0.1) (2.6.0)\n",
            "Requirement already satisfied: clang~=5.0 in /usr/local/lib/python3.7/dist-packages (from tensorflow>=2.5.0->tf-models-official>=2.5.1->object-detection==0.1) (5.0)\n",
            "Requirement already satisfied: typing-extensions~=3.7.4 in /usr/local/lib/python3.7/dist-packages (from tensorflow>=2.5.0->tf-models-official>=2.5.1->object-detection==0.1) (3.7.4.3)\n",
            "Requirement already satisfied: keras~=2.6 in /usr/local/lib/python3.7/dist-packages (from tensorflow>=2.5.0->tf-models-official>=2.5.1->object-detection==0.1) (2.6.0)\n",
            "Requirement already satisfied: google-pasta~=0.2 in /usr/local/lib/python3.7/dist-packages (from tensorflow>=2.5.0->tf-models-official>=2.5.1->object-detection==0.1) (0.2.0)\n",
            "Requirement already satisfied: keras-preprocessing~=1.1.2 in /usr/local/lib/python3.7/dist-packages (from tensorflow>=2.5.0->tf-models-official>=2.5.1->object-detection==0.1) (1.1.2)\n",
            "Requirement already satisfied: termcolor~=1.1.0 in /usr/local/lib/python3.7/dist-packages (from tensorflow>=2.5.0->tf-models-official>=2.5.1->object-detection==0.1) (1.1.0)\n",
            "Requirement already satisfied: wheel~=0.35 in /usr/local/lib/python3.7/dist-packages (from tensorflow>=2.5.0->tf-models-official>=2.5.1->object-detection==0.1) (0.37.0)\n",
            "Requirement already satisfied: wrapt~=1.12.1 in /usr/local/lib/python3.7/dist-packages (from tensorflow>=2.5.0->tf-models-official>=2.5.1->object-detection==0.1) (1.12.1)\n",
            "Requirement already satisfied: cached-property in /usr/local/lib/python3.7/dist-packages (from h5py~=3.1.0->tensorflow>=2.5.0->tf-models-official>=2.5.1->object-detection==0.1) (1.5.2)\n",
            "Requirement already satisfied: tensorboard-data-server<0.7.0,>=0.6.0 in /usr/local/lib/python3.7/dist-packages (from tensorboard~=2.6->tensorflow>=2.5.0->tf-models-official>=2.5.1->object-detection==0.1) (0.6.1)\n",
            "Requirement already satisfied: tensorboard-plugin-wit>=1.6.0 in /usr/local/lib/python3.7/dist-packages (from tensorboard~=2.6->tensorflow>=2.5.0->tf-models-official>=2.5.1->object-detection==0.1) (1.8.0)\n",
            "Requirement already satisfied: google-auth-oauthlib<0.5,>=0.4.1 in /usr/local/lib/python3.7/dist-packages (from tensorboard~=2.6->tensorflow>=2.5.0->tf-models-official>=2.5.1->object-detection==0.1) (0.4.6)\n",
            "Requirement already satisfied: werkzeug>=0.11.15 in /usr/local/lib/python3.7/dist-packages (from tensorboard~=2.6->tensorflow>=2.5.0->tf-models-official>=2.5.1->object-detection==0.1) (1.0.1)\n",
            "Requirement already satisfied: markdown>=2.6.8 in /usr/local/lib/python3.7/dist-packages (from tensorboard~=2.6->tensorflow>=2.5.0->tf-models-official>=2.5.1->object-detection==0.1) (3.3.4)\n",
            "Requirement already satisfied: requests-oauthlib>=0.7.0 in /usr/local/lib/python3.7/dist-packages (from google-auth-oauthlib<0.5,>=0.4.1->tensorboard~=2.6->tensorflow>=2.5.0->tf-models-official>=2.5.1->object-detection==0.1) (1.3.0)\n",
            "Requirement already satisfied: importlib-metadata in /usr/local/lib/python3.7/dist-packages (from markdown>=2.6.8->tensorboard~=2.6->tensorflow>=2.5.0->tf-models-official>=2.5.1->object-detection==0.1) (4.8.1)\n",
            "Requirement already satisfied: oauthlib>=3.0.0 in /usr/local/lib/python3.7/dist-packages (from requests-oauthlib>=0.7.0->google-auth-oauthlib<0.5,>=0.4.1->tensorboard~=2.6->tensorflow>=2.5.0->tf-models-official>=2.5.1->object-detection==0.1) (3.1.1)\n",
            "Requirement already satisfied: dm-tree~=0.1.1 in /usr/local/lib/python3.7/dist-packages (from tensorflow-model-optimization>=0.4.1->tf-models-official>=2.5.1->object-detection==0.1) (0.1.6)\n",
            "Requirement already satisfied: pydot<2,>=1.2.0 in /usr/local/lib/python3.7/dist-packages (from apache-beam->object-detection==0.1) (1.3.0)\n",
            "Requirement already satisfied: future<1.0.0,>=0.18.2 in /usr/local/lib/python3.7/dist-packages (from apache-beam->object-detection==0.1) (0.18.2)\n",
            "Requirement already satisfied: dill<0.3.2,>=0.3.1.1 in /usr/local/lib/python3.7/dist-packages (from apache-beam->object-detection==0.1) (0.3.1.1)\n",
            "Requirement already satisfied: crcmod<2.0,>=1.7 in /usr/local/lib/python3.7/dist-packages (from apache-beam->object-detection==0.1) (1.7)\n",
            "Requirement already satisfied: fastavro<2,>=0.21.4 in /usr/local/lib/python3.7/dist-packages (from apache-beam->object-detection==0.1) (1.4.5)\n",
            "Requirement already satisfied: pymongo<4.0.0,>=3.8.0 in /usr/local/lib/python3.7/dist-packages (from apache-beam->object-detection==0.1) (3.12.0)\n",
            "Requirement already satisfied: orjson<4.0 in /usr/local/lib/python3.7/dist-packages (from apache-beam->object-detection==0.1) (3.6.4)\n",
            "Requirement already satisfied: hdfs<3.0.0,>=2.1.0 in /usr/local/lib/python3.7/dist-packages (from apache-beam->object-detection==0.1) (2.6.0)\n",
            "Requirement already satisfied: pyarrow<5.0.0,>=0.15.1 in /usr/local/lib/python3.7/dist-packages (from apache-beam->object-detection==0.1) (3.0.0)\n",
            "Requirement already satisfied: docopt in /usr/local/lib/python3.7/dist-packages (from hdfs<3.0.0,>=2.1.0->apache-beam->object-detection==0.1) (0.6.2)\n",
            "Requirement already satisfied: zipp>=0.5 in /usr/local/lib/python3.7/dist-packages (from importlib-metadata->markdown>=2.6.8->tensorboard~=2.6->tensorflow>=2.5.0->tf-models-official>=2.5.1->object-detection==0.1) (3.6.0)\n",
            "Requirement already satisfied: opencv-python>=4.1.0.25 in /usr/local/lib/python3.7/dist-packages (from lvis->object-detection==0.1) (4.1.2.30)\n",
            "Requirement already satisfied: kiwisolver>=1.1.0 in /usr/local/lib/python3.7/dist-packages (from lvis->object-detection==0.1) (1.3.2)\n",
            "Requirement already satisfied: cycler>=0.10.0 in /usr/local/lib/python3.7/dist-packages (from lvis->object-detection==0.1) (0.10.0)\n",
            "Requirement already satisfied: text-unidecode>=1.3 in /usr/local/lib/python3.7/dist-packages (from python-slugify->kaggle>=1.3.9->tf-models-official>=2.5.1->object-detection==0.1) (1.3)\n",
            "Requirement already satisfied: tabulate>=0.8.9 in /usr/local/lib/python3.7/dist-packages (from sacrebleu->tf-models-official>=2.5.1->object-detection==0.1) (0.8.9)\n",
            "Requirement already satisfied: portalocker in /usr/local/lib/python3.7/dist-packages (from sacrebleu->tf-models-official>=2.5.1->object-detection==0.1) (2.3.2)\n",
            "Requirement already satisfied: colorama in /usr/local/lib/python3.7/dist-packages (from sacrebleu->tf-models-official>=2.5.1->object-detection==0.1) (0.4.4)\n",
            "Requirement already satisfied: regex in /usr/local/lib/python3.7/dist-packages (from sacrebleu->tf-models-official>=2.5.1->object-detection==0.1) (2019.12.20)\n",
            "Requirement already satisfied: scikit-learn>=0.21.3 in /usr/local/lib/python3.7/dist-packages (from seqeval->tf-models-official>=2.5.1->object-detection==0.1) (0.22.2.post1)\n",
            "Requirement already satisfied: joblib>=0.11 in /usr/local/lib/python3.7/dist-packages (from scikit-learn>=0.21.3->seqeval->tf-models-official>=2.5.1->object-detection==0.1) (1.0.1)\n",
            "Requirement already satisfied: typeguard>=2.7 in /usr/local/lib/python3.7/dist-packages (from tensorflow-addons->tf-models-official>=2.5.1->object-detection==0.1) (2.7.1)\n",
            "Requirement already satisfied: importlib-resources in /usr/local/lib/python3.7/dist-packages (from tensorflow-datasets->tf-models-official>=2.5.1->object-detection==0.1) (5.2.2)\n",
            "Requirement already satisfied: promise in /usr/local/lib/python3.7/dist-packages (from tensorflow-datasets->tf-models-official>=2.5.1->object-detection==0.1) (2.3)\n",
            "Requirement already satisfied: attrs>=18.1.0 in /usr/local/lib/python3.7/dist-packages (from tensorflow-datasets->tf-models-official>=2.5.1->object-detection==0.1) (21.2.0)\n",
            "Requirement already satisfied: tensorflow-metadata in /usr/local/lib/python3.7/dist-packages (from tensorflow-datasets->tf-models-official>=2.5.1->object-detection==0.1) (1.2.0)\n",
            "Building wheels for collected packages: object-detection\n",
            "  Building wheel for object-detection (setup.py) ... \u001b[?25l\u001b[?25hdone\n",
            "  Created wheel for object-detection: filename=object_detection-0.1-py3-none-any.whl size=1675218 sha256=580070677451163f84515f8a9c70cc710addfa1bbe1bf65055314bc09adf4076\n",
            "  Stored in directory: /tmp/pip-ephem-wheel-cache-rltjobnx/wheels/fa/a4/d2/e9a5057e414fd46c8e543d2706cd836d64e1fcd9eccceb2329\n",
            "Successfully built object-detection\n",
            "Installing collected packages: object-detection\n",
            "  Attempting uninstall: object-detection\n",
            "    Found existing installation: object-detection 0.1\n",
            "    Uninstalling object-detection-0.1:\n",
            "      Successfully uninstalled object-detection-0.1\n",
            "Successfully installed object-detection-0.1\n"
          ]
        }
      ]
    },
    {
      "cell_type": "code",
      "metadata": {
        "colab": {
          "base_uri": "https://localhost:8080/"
        },
        "id": "spW_T1isdTPU",
        "outputId": "97785223-0125-416e-8fb1-ce1e50b5075b"
      },
      "source": [
        "from google.colab import drive\n",
        "drive.mount('/content/drive')"
      ],
      "execution_count": 15,
      "outputs": [
        {
          "output_type": "stream",
          "name": "stdout",
          "text": [
            "Drive already mounted at /content/drive; to attempt to forcibly remount, call drive.mount(\"/content/drive\", force_remount=True).\n"
          ]
        }
      ]
    },
    {
      "cell_type": "code",
      "metadata": {
        "id": "ENC33YLSl8Le"
      },
      "source": [
        "from object_detection.utils import label_map_util\n",
        "from object_detection.utils import visualization_utils as viz_utils\n",
        "from object_detection.utils import ops as utils_ops"
      ],
      "execution_count": 16,
      "outputs": []
    },
    {
      "cell_type": "code",
      "metadata": {
        "colab": {
          "base_uri": "https://localhost:8080/"
        },
        "id": "vVXTC9EjhQx7",
        "outputId": "84fd1375-6e03-490f-ee0c-6539f732c0a0"
      },
      "source": [
        "%cd /content/\n",
        "!curl -L \"https://app.roboflow.com/ds/CrESyj8JxX?key=QheQbcXOwu\" > roboflow.zip; unzip roboflow.zip; rm roboflow.zip"
      ],
      "execution_count": 17,
      "outputs": [
        {
          "output_type": "stream",
          "name": "stdout",
          "text": [
            "/content\n",
            "  % Total    % Received % Xferd  Average Speed   Time    Time     Time  Current\n",
            "                                 Dload  Upload   Total   Spent    Left  Speed\n",
            "100   891  100   891    0     0   1400      0 --:--:-- --:--:-- --:--:--  1400\n",
            "100  203M  100  203M    0     0  83.5M      0  0:00:02  0:00:02 --:--:--  132M\n",
            "Archive:  roboflow.zip\n",
            "replace README.roboflow.txt? [y]es, [n]o, [A]ll, [N]one, [r]ename: n\n",
            "replace train/person.tfrecord? [y]es, [n]o, [A]ll, [N]one, [r]ename: n\n",
            "replace train/person_label_map.pbtxt? [y]es, [n]o, [A]ll, [N]one, [r]ename: n\n",
            "replace valid/person.tfrecord? [y]es, [n]o, [A]ll, [N]one, [r]ename: n\n",
            "replace valid/person_label_map.pbtxt? [y]es, [n]o, [A]ll, [N]one, [r]ename: n\n"
          ]
        }
      ]
    },
    {
      "cell_type": "code",
      "metadata": {
        "colab": {
          "base_uri": "https://localhost:8080/"
        },
        "id": "zm8iCjVN8-9_",
        "outputId": "a678876a-4c22-4fdc-e680-d9daeeea1565"
      },
      "source": [
        "!wget http://download.tensorflow.org/models/object_detection/tf2/20200711/efficientdet_d0_coco17_tpu-32.tar.gz\n",
        "!tar -xvf \"/content/efficientdet_d0_coco17_tpu-32.tar.gz\"\n",
        "!rm \"/content/efficientdet_d0_coco17_tpu-32.tar.gz\"\n",
        "!mkdir \"/content/model/\"\n",
        "!cp \"/content/efficientdet_d0_coco17_tpu-32/pipeline.config\" \"/content/model/\""
      ],
      "execution_count": 18,
      "outputs": [
        {
          "output_type": "stream",
          "name": "stdout",
          "text": [
            "--2021-10-18 18:56:34--  http://download.tensorflow.org/models/object_detection/tf2/20200711/efficientdet_d0_coco17_tpu-32.tar.gz\n",
            "Resolving download.tensorflow.org (download.tensorflow.org)... 173.194.217.128, 2607:f8b0:400c:c13::80\n",
            "Connecting to download.tensorflow.org (download.tensorflow.org)|173.194.217.128|:80... connected.\n",
            "HTTP request sent, awaiting response... 200 OK\n",
            "Length: 30736482 (29M) [application/x-tar]\n",
            "Saving to: ‘efficientdet_d0_coco17_tpu-32.tar.gz’\n",
            "\n",
            "efficientdet_d0_coc 100%[===================>]  29.31M   106MB/s    in 0.3s    \n",
            "\n",
            "2021-10-18 18:56:35 (106 MB/s) - ‘efficientdet_d0_coco17_tpu-32.tar.gz’ saved [30736482/30736482]\n",
            "\n",
            "efficientdet_d0_coco17_tpu-32/\n",
            "efficientdet_d0_coco17_tpu-32/checkpoint/\n",
            "efficientdet_d0_coco17_tpu-32/checkpoint/ckpt-0.data-00000-of-00001\n",
            "efficientdet_d0_coco17_tpu-32/checkpoint/checkpoint\n",
            "efficientdet_d0_coco17_tpu-32/checkpoint/ckpt-0.index\n",
            "efficientdet_d0_coco17_tpu-32/pipeline.config\n",
            "efficientdet_d0_coco17_tpu-32/saved_model/\n",
            "efficientdet_d0_coco17_tpu-32/saved_model/saved_model.pb\n",
            "efficientdet_d0_coco17_tpu-32/saved_model/assets/\n",
            "efficientdet_d0_coco17_tpu-32/saved_model/variables/\n",
            "efficientdet_d0_coco17_tpu-32/saved_model/variables/variables.data-00000-of-00001\n",
            "efficientdet_d0_coco17_tpu-32/saved_model/variables/variables.index\n",
            "mkdir: cannot create directory ‘/content/model/’: File exists\n"
          ]
        }
      ]
    },
    {
      "cell_type": "code",
      "metadata": {
        "colab": {
          "base_uri": "https://localhost:8080/"
        },
        "id": "sxgx9ecK8-oN",
        "outputId": "5777e376-b1d6-4a69-cbf1-8c73e1c40da5"
      },
      "source": [
        "!python /content/models/research/object_detection/model_main_tf2.py --model_dir=/content/model --pipeline_config_path=/content/model/pipeline.config"
      ],
      "execution_count": 19,
      "outputs": [
        {
          "output_type": "stream",
          "name": "stdout",
          "text": [
            "2021-10-18 19:02:06.860198: E tensorflow/stream_executor/cuda/cuda_driver.cc:271] failed call to cuInit: CUDA_ERROR_NO_DEVICE: no CUDA-capable device is detected\n",
            "2021-10-18 19:02:06.860289: I tensorflow/stream_executor/cuda/cuda_diagnostics.cc:156] kernel driver does not appear to be running on this host (ae8984f642f6): /proc/driver/nvidia/version does not exist\n",
            "WARNING:tensorflow:There are non-GPU devices in `tf.distribute.Strategy`, not using nccl allreduce.\n",
            "W1018 19:02:06.925302 140003697878912 cross_device_ops.py:1387] There are non-GPU devices in `tf.distribute.Strategy`, not using nccl allreduce.\n",
            "INFO:tensorflow:Using MirroredStrategy with devices ('/job:localhost/replica:0/task:0/device:CPU:0',)\n",
            "I1018 19:02:07.074313 140003697878912 mirrored_strategy.py:369] Using MirroredStrategy with devices ('/job:localhost/replica:0/task:0/device:CPU:0',)\n",
            "INFO:tensorflow:Maybe overwriting train_steps: None\n",
            "I1018 19:02:07.112138 140003697878912 config_util.py:552] Maybe overwriting train_steps: None\n",
            "INFO:tensorflow:Maybe overwriting use_bfloat16: False\n",
            "I1018 19:02:07.112877 140003697878912 config_util.py:552] Maybe overwriting use_bfloat16: False\n",
            "I1018 19:02:07.163103 140003697878912 ssd_efficientnet_bifpn_feature_extractor.py:143] EfficientDet EfficientNet backbone version: efficientnet-b0\n",
            "I1018 19:02:07.163395 140003697878912 ssd_efficientnet_bifpn_feature_extractor.py:144] EfficientDet BiFPN num filters: 64\n",
            "I1018 19:02:07.163510 140003697878912 ssd_efficientnet_bifpn_feature_extractor.py:146] EfficientDet BiFPN num iterations: 3\n",
            "I1018 19:02:07.169427 140003697878912 efficientnet_model.py:147] round_filter input=32 output=32\n",
            "I1018 19:02:07.570433 140003697878912 efficientnet_model.py:147] round_filter input=32 output=32\n",
            "I1018 19:02:07.570678 140003697878912 efficientnet_model.py:147] round_filter input=16 output=16\n",
            "I1018 19:02:07.741971 140003697878912 efficientnet_model.py:147] round_filter input=16 output=16\n",
            "I1018 19:02:07.742236 140003697878912 efficientnet_model.py:147] round_filter input=24 output=24\n",
            "I1018 19:02:08.284164 140003697878912 efficientnet_model.py:147] round_filter input=24 output=24\n",
            "I1018 19:02:08.284418 140003697878912 efficientnet_model.py:147] round_filter input=40 output=40\n",
            "I1018 19:02:08.739117 140003697878912 efficientnet_model.py:147] round_filter input=40 output=40\n",
            "I1018 19:02:08.739349 140003697878912 efficientnet_model.py:147] round_filter input=80 output=80\n",
            "I1018 19:02:09.513890 140003697878912 efficientnet_model.py:147] round_filter input=80 output=80\n",
            "I1018 19:02:09.515479 140003697878912 efficientnet_model.py:147] round_filter input=112 output=112\n",
            "I1018 19:02:10.366572 140003697878912 efficientnet_model.py:147] round_filter input=112 output=112\n",
            "I1018 19:02:10.366824 140003697878912 efficientnet_model.py:147] round_filter input=192 output=192\n",
            "I1018 19:02:11.464560 140003697878912 efficientnet_model.py:147] round_filter input=192 output=192\n",
            "I1018 19:02:11.464811 140003697878912 efficientnet_model.py:147] round_filter input=320 output=320\n",
            "I1018 19:02:11.721667 140003697878912 efficientnet_model.py:147] round_filter input=1280 output=1280\n",
            "I1018 19:02:11.893320 140003697878912 efficientnet_model.py:458] Building model efficientnet with params ModelConfig(width_coefficient=1.0, depth_coefficient=1.0, resolution=224, dropout_rate=0.2, blocks=(BlockConfig(input_filters=32, output_filters=16, kernel_size=3, num_repeat=1, expand_ratio=1, strides=(1, 1), se_ratio=0.25, id_skip=True, fused_conv=False, conv_type='depthwise'), BlockConfig(input_filters=16, output_filters=24, kernel_size=3, num_repeat=2, expand_ratio=6, strides=(2, 2), se_ratio=0.25, id_skip=True, fused_conv=False, conv_type='depthwise'), BlockConfig(input_filters=24, output_filters=40, kernel_size=5, num_repeat=2, expand_ratio=6, strides=(2, 2), se_ratio=0.25, id_skip=True, fused_conv=False, conv_type='depthwise'), BlockConfig(input_filters=40, output_filters=80, kernel_size=3, num_repeat=3, expand_ratio=6, strides=(2, 2), se_ratio=0.25, id_skip=True, fused_conv=False, conv_type='depthwise'), BlockConfig(input_filters=80, output_filters=112, kernel_size=5, num_repeat=3, expand_ratio=6, strides=(1, 1), se_ratio=0.25, id_skip=True, fused_conv=False, conv_type='depthwise'), BlockConfig(input_filters=112, output_filters=192, kernel_size=5, num_repeat=4, expand_ratio=6, strides=(2, 2), se_ratio=0.25, id_skip=True, fused_conv=False, conv_type='depthwise'), BlockConfig(input_filters=192, output_filters=320, kernel_size=3, num_repeat=1, expand_ratio=6, strides=(1, 1), se_ratio=0.25, id_skip=True, fused_conv=False, conv_type='depthwise')), stem_base_filters=32, top_base_filters=1280, activation='simple_swish', batch_norm='default', bn_momentum=0.99, bn_epsilon=0.001, weight_decay=5e-06, drop_connect_rate=0.2, depth_divisor=8, min_depth=None, use_se=True, input_channels=3, num_classes=1000, model_name='efficientnet', rescale_input=False, data_format='channels_last', dtype='float32')\n",
            "WARNING:tensorflow:From /usr/local/lib/python3.7/dist-packages/object_detection/model_lib_v2.py:558: StrategyBase.experimental_distribute_datasets_from_function (from tensorflow.python.distribute.distribute_lib) is deprecated and will be removed in a future version.\n",
            "Instructions for updating:\n",
            "rename to distribute_datasets_from_function\n",
            "W1018 19:02:12.002165 140003697878912 deprecation.py:345] From /usr/local/lib/python3.7/dist-packages/object_detection/model_lib_v2.py:558: StrategyBase.experimental_distribute_datasets_from_function (from tensorflow.python.distribute.distribute_lib) is deprecated and will be removed in a future version.\n",
            "Instructions for updating:\n",
            "rename to distribute_datasets_from_function\n",
            "INFO:tensorflow:Reading unweighted datasets: ['/content/train/person.tfrecord']\n",
            "I1018 19:02:12.079648 140003697878912 dataset_builder.py:163] Reading unweighted datasets: ['/content/train/person.tfrecord']\n",
            "INFO:tensorflow:Reading record datasets for input file: ['/content/train/person.tfrecord']\n",
            "I1018 19:02:12.081611 140003697878912 dataset_builder.py:80] Reading record datasets for input file: ['/content/train/person.tfrecord']\n",
            "INFO:tensorflow:Number of filenames to read: 1\n",
            "I1018 19:02:12.081789 140003697878912 dataset_builder.py:81] Number of filenames to read: 1\n",
            "WARNING:tensorflow:num_readers has been reduced to 1 to match input file shards.\n",
            "W1018 19:02:12.081892 140003697878912 dataset_builder.py:88] num_readers has been reduced to 1 to match input file shards.\n",
            "WARNING:tensorflow:From /usr/local/lib/python3.7/dist-packages/object_detection/builders/dataset_builder.py:105: parallel_interleave (from tensorflow.python.data.experimental.ops.interleave_ops) is deprecated and will be removed in a future version.\n",
            "Instructions for updating:\n",
            "Use `tf.data.Dataset.interleave(map_func, cycle_length, block_length, num_parallel_calls=tf.data.AUTOTUNE)` instead. If sloppy execution is desired, use `tf.data.Options.experimental_deterministic`.\n",
            "W1018 19:02:12.121662 140003697878912 deprecation.py:345] From /usr/local/lib/python3.7/dist-packages/object_detection/builders/dataset_builder.py:105: parallel_interleave (from tensorflow.python.data.experimental.ops.interleave_ops) is deprecated and will be removed in a future version.\n",
            "Instructions for updating:\n",
            "Use `tf.data.Dataset.interleave(map_func, cycle_length, block_length, num_parallel_calls=tf.data.AUTOTUNE)` instead. If sloppy execution is desired, use `tf.data.Options.experimental_deterministic`.\n",
            "WARNING:tensorflow:From /usr/local/lib/python3.7/dist-packages/object_detection/builders/dataset_builder.py:237: DatasetV1.map_with_legacy_function (from tensorflow.python.data.ops.dataset_ops) is deprecated and will be removed in a future version.\n",
            "Instructions for updating:\n",
            "Use `tf.data.Dataset.map()\n",
            "W1018 19:02:12.198482 140003697878912 deprecation.py:345] From /usr/local/lib/python3.7/dist-packages/object_detection/builders/dataset_builder.py:237: DatasetV1.map_with_legacy_function (from tensorflow.python.data.ops.dataset_ops) is deprecated and will be removed in a future version.\n",
            "Instructions for updating:\n",
            "Use `tf.data.Dataset.map()\n",
            "WARNING:tensorflow:From /usr/local/lib/python3.7/dist-packages/tensorflow/python/util/dispatch.py:206: sparse_to_dense (from tensorflow.python.ops.sparse_ops) is deprecated and will be removed in a future version.\n",
            "Instructions for updating:\n",
            "Create a `tf.sparse.SparseTensor` and use `tf.sparse.to_dense` instead.\n",
            "W1018 19:02:26.810296 140003697878912 deprecation.py:345] From /usr/local/lib/python3.7/dist-packages/tensorflow/python/util/dispatch.py:206: sparse_to_dense (from tensorflow.python.ops.sparse_ops) is deprecated and will be removed in a future version.\n",
            "Instructions for updating:\n",
            "Create a `tf.sparse.SparseTensor` and use `tf.sparse.to_dense` instead.\n",
            "WARNING:tensorflow:From /usr/local/lib/python3.7/dist-packages/tensorflow/python/autograph/impl/api.py:464: to_float (from tensorflow.python.ops.math_ops) is deprecated and will be removed in a future version.\n",
            "Instructions for updating:\n",
            "Use `tf.cast` instead.\n",
            "W1018 19:02:35.096599 140003697878912 deprecation.py:345] From /usr/local/lib/python3.7/dist-packages/tensorflow/python/autograph/impl/api.py:464: to_float (from tensorflow.python.ops.math_ops) is deprecated and will be removed in a future version.\n",
            "Instructions for updating:\n",
            "Use `tf.cast` instead.\n",
            "2021-10-18 19:02:39.755079: I tensorflow/compiler/mlir/mlir_graph_optimization_pass.cc:185] None of the MLIR Optimization Passes are enabled (registered 2)\n",
            "2021-10-18 19:02:40.569476: W tensorflow/core/framework/dataset.cc:679] Input of GeneratorDatasetOp::Dataset will not be optimized because the dataset does not implement the AsGraphDefInternal() method needed to apply optimizations.\n",
            "/usr/local/lib/python3.7/dist-packages/keras/backend.py:401: UserWarning: `tf.keras.backend.set_learning_phase` is deprecated and will be removed after 2020-10-11. To update it, simply pass a True/False value to the `training` argument of the `__call__` method of your layer or model.\n",
            "  warnings.warn('`tf.keras.backend.set_learning_phase` is deprecated and '\n",
            "2021-10-18 19:04:21.719097: W tensorflow/core/framework/dataset.cc:679] Input of GeneratorDatasetOp::Dataset will not be optimized because the dataset does not implement the AsGraphDefInternal() method needed to apply optimizations.\n",
            "WARNING:tensorflow:From /usr/local/lib/python3.7/dist-packages/tensorflow/python/util/deprecation.py:617: calling map_fn_v2 (from tensorflow.python.ops.map_fn) with dtype is deprecated and will be removed in a future version.\n",
            "Instructions for updating:\n",
            "Use fn_output_signature instead\n",
            "W1018 19:04:22.964360 140001524201216 deprecation.py:548] From /usr/local/lib/python3.7/dist-packages/tensorflow/python/util/deprecation.py:617: calling map_fn_v2 (from tensorflow.python.ops.map_fn) with dtype is deprecated and will be removed in a future version.\n",
            "Instructions for updating:\n",
            "Use fn_output_signature instead\n",
            "WARNING:tensorflow:Gradients do not exist for variables ['top_bn/gamma:0', 'top_bn/beta:0'] when minimizing the loss.\n",
            "W1018 19:04:45.911740 140001524201216 utils.py:77] Gradients do not exist for variables ['top_bn/gamma:0', 'top_bn/beta:0'] when minimizing the loss.\n",
            "WARNING:tensorflow:Gradients do not exist for variables ['top_bn/gamma:0', 'top_bn/beta:0'] when minimizing the loss.\n",
            "W1018 19:05:18.605150 140001524201216 utils.py:77] Gradients do not exist for variables ['top_bn/gamma:0', 'top_bn/beta:0'] when minimizing the loss.\n",
            "WARNING:tensorflow:Gradients do not exist for variables ['top_bn/gamma:0', 'top_bn/beta:0'] when minimizing the loss.\n",
            "W1018 19:05:47.142351 140001524201216 utils.py:77] Gradients do not exist for variables ['top_bn/gamma:0', 'top_bn/beta:0'] when minimizing the loss.\n",
            "WARNING:tensorflow:Gradients do not exist for variables ['top_bn/gamma:0', 'top_bn/beta:0'] when minimizing the loss.\n",
            "W1018 19:06:19.405418 140001524201216 utils.py:77] Gradients do not exist for variables ['top_bn/gamma:0', 'top_bn/beta:0'] when minimizing the loss.\n",
            "^C\n"
          ]
        }
      ]
    },
    {
      "cell_type": "code",
      "metadata": {
        "id": "kjOpEZ6T8-kT"
      },
      "source": [
        ""
      ],
      "execution_count": null,
      "outputs": []
    },
    {
      "cell_type": "code",
      "metadata": {
        "id": "bTvoCD6I8-gN"
      },
      "source": [
        ""
      ],
      "execution_count": null,
      "outputs": []
    },
    {
      "cell_type": "code",
      "metadata": {
        "id": "nM410Xsy8-cR"
      },
      "source": [
        ""
      ],
      "execution_count": null,
      "outputs": []
    },
    {
      "cell_type": "code",
      "metadata": {
        "id": "wWa0V-2i8-YI"
      },
      "source": [
        ""
      ],
      "execution_count": null,
      "outputs": []
    },
    {
      "cell_type": "code",
      "metadata": {
        "id": "BvMR3xvh8-UJ"
      },
      "source": [
        ""
      ],
      "execution_count": null,
      "outputs": []
    },
    {
      "cell_type": "code",
      "metadata": {
        "id": "ehRSNmEj8-QP"
      },
      "source": [
        ""
      ],
      "execution_count": null,
      "outputs": []
    },
    {
      "cell_type": "code",
      "metadata": {
        "id": "t3pH2XNZ8-MU"
      },
      "source": [
        ""
      ],
      "execution_count": null,
      "outputs": []
    },
    {
      "cell_type": "code",
      "metadata": {
        "id": "By7iHdVB8-Il"
      },
      "source": [
        ""
      ],
      "execution_count": null,
      "outputs": []
    },
    {
      "cell_type": "code",
      "metadata": {
        "id": "_uoDlsKt8-E0"
      },
      "source": [
        ""
      ],
      "execution_count": null,
      "outputs": []
    },
    {
      "cell_type": "code",
      "metadata": {
        "id": "AVAw_-4u8-At"
      },
      "source": [
        ""
      ],
      "execution_count": null,
      "outputs": []
    },
    {
      "cell_type": "code",
      "metadata": {
        "id": "0opRuyMB898T"
      },
      "source": [
        ""
      ],
      "execution_count": null,
      "outputs": []
    },
    {
      "cell_type": "code",
      "metadata": {
        "colab": {
          "base_uri": "https://localhost:8080/"
        },
        "id": "TbxfNOpX1uC2",
        "outputId": "f3e4874b-8be9-44d1-9bd6-f8cd1997efa0"
      },
      "source": [
        "model = hub.load(\"https://tfhub.dev/tensorflow/efficientdet/d0/1\")"
      ],
      "execution_count": null,
      "outputs": [
        {
          "name": "stderr",
          "output_type": "stream",
          "text": [
            "WARNING:absl:Importing a function (__inference___call___32344) with ops with unsaved custom gradients. Will likely fail if a gradient is requested.\n",
            "WARNING:absl:Importing a function (__inference_EfficientDet-D0_layer_call_and_return_conditional_losses_97451) with ops with unsaved custom gradients. Will likely fail if a gradient is requested.\n",
            "WARNING:absl:Importing a function (__inference_bifpn_layer_call_and_return_conditional_losses_77595) with ops with unsaved custom gradients. Will likely fail if a gradient is requested.\n",
            "WARNING:absl:Importing a function (__inference_EfficientDet-D0_layer_call_and_return_conditional_losses_103456) with ops with unsaved custom gradients. Will likely fail if a gradient is requested.\n",
            "WARNING:absl:Importing a function (__inference_EfficientDet-D0_layer_call_and_return_conditional_losses_93843) with ops with unsaved custom gradients. Will likely fail if a gradient is requested.\n",
            "WARNING:absl:Importing a function (__inference_EfficientDet-D0_layer_call_and_return_conditional_losses_107064) with ops with unsaved custom gradients. Will likely fail if a gradient is requested.\n",
            "WARNING:absl:Importing a function (__inference_bifpn_layer_call_and_return_conditional_losses_75975) with ops with unsaved custom gradients. Will likely fail if a gradient is requested.\n"
          ]
        }
      ]
    },
    {
      "cell_type": "code",
      "metadata": {
        "id": "7LryduHT22_7"
      },
      "source": [
        "img = cv2.imread(\"/content/output_hX-AWUQ1wIEr_0.png\")"
      ],
      "execution_count": null,
      "outputs": []
    },
    {
      "cell_type": "code",
      "metadata": {
        "id": "v38hN-033Lky"
      },
      "source": [
        "results = model(tf.expand_dims(img, axis=0))"
      ],
      "execution_count": null,
      "outputs": []
    },
    {
      "cell_type": "code",
      "metadata": {
        "colab": {
          "base_uri": "https://localhost:8080/"
        },
        "id": "g6fim_8Z4Kku",
        "outputId": "ce39dbca-9000-4a5e-aa84-324a8cc2903a"
      },
      "source": [
        "class_ids = results[\"detection_classes\"]\n",
        "class_ids"
      ],
      "execution_count": null,
      "outputs": [
        {
          "data": {
            "text/plain": [
              "<tf.Tensor: shape=(1, 100), dtype=float32, numpy=\n",
              "array([[38.,  1.,  1., 38.,  1.,  1.,  1.,  1., 38., 38.,  1.,  1., 38.,\n",
              "         1.,  1., 38.,  1.,  1.,  1., 38.,  1.,  1., 38.,  1., 16.,  1.,\n",
              "         1.,  1.,  1.,  1.,  1.,  1.,  1.,  1.,  1.,  1.,  1., 38.,  1.,\n",
              "         1.,  1.,  1.,  1.,  1.,  1.,  1.,  1.,  1.,  1.,  1., 16.,  1.,\n",
              "         1., 16., 42., 38.,  1.,  1.,  1., 38., 16.,  1.,  1.,  1.,  1.,\n",
              "         1.,  1.,  1.,  1.,  1., 42., 16.,  1., 38.,  1.,  1.,  1., 42.,\n",
              "         1.,  1.,  9., 38., 38., 42., 38., 38.,  1., 16.,  1.,  1.,  1.,\n",
              "        38., 38.,  1.,  1.,  1.,  1., 16., 42., 16.]], dtype=float32)>"
            ]
          },
          "execution_count": 8,
          "metadata": {},
          "output_type": "execute_result"
        }
      ]
    },
    {
      "cell_type": "code",
      "metadata": {
        "colab": {
          "base_uri": "https://localhost:8080/"
        },
        "id": "eHe_8jxU6Cga",
        "outputId": "eaf2363a-a05f-4ea5-8e55-9e93fcd130c2"
      },
      "source": [
        "result = {key:value.numpy() for key,value in results.items()}\n",
        "print(result.keys())"
      ],
      "execution_count": null,
      "outputs": [
        {
          "name": "stdout",
          "output_type": "stream",
          "text": [
            "dict_keys(['raw_detection_scores', 'detection_multiclass_scores', 'detection_scores', 'raw_detection_boxes', 'detection_anchor_indices', 'num_detections', 'detection_classes', 'detection_boxes'])\n"
          ]
        }
      ]
    },
    {
      "cell_type": "code",
      "metadata": {
        "colab": {
          "base_uri": "https://localhost:8080/"
        },
        "id": "Xl9woVPl6Rc1",
        "outputId": "b20fef11-ff2b-42d5-a8d3-db5a7ed783db"
      },
      "source": [
        "result"
      ],
      "execution_count": null,
      "outputs": [
        {
          "data": {
            "text/plain": [
              "{'detection_anchor_indices': array([[ 3150., 20851., 18511.,  7032., 13911., 12903., 13875., 13272.,\n",
              "          9453.,  6456., 12912., 12255.,  9462., 12246., 13281.,  9408.,\n",
              "         11388., 12894., 11397.,  5880., 11058., 13920.,  9417., 12264.,\n",
              "         13620., 10812., 10257., 11049., 13884., 13290., 10821., 12822.,\n",
              "         13488., 11085., 11670., 11076., 12018.,  8322., 13827., 11802.,\n",
              "         11067., 11094., 11031., 12594., 12318., 11040., 13902., 13335.,\n",
              "         13893., 13983., 13611., 11688., 13620., 14187., 13911.,  8886.,\n",
              "         12378., 22578., 11679.,  8877., 14196., 11013.,  7032., 12327.,\n",
              "         11112., 11724.,  9453., 13836., 11103., 12291., 11397., 11388.,\n",
              "         12723.,  9390., 11190., 12300., 12921., 11388., 11415., 12696.,\n",
              "         11388., 11085., 11190., 12903.,  9357., 10029., 12936., 15321.,\n",
              "         11238., 11175., 11184., 11094.,  9444., 14559., 11715., 11217.,\n",
              "         10677., 12018., 13620., 14151.]], dtype=float32),\n",
              " 'detection_boxes': array([[[0.09551664, 0.44897074, 0.17560896, 0.5074955 ],\n",
              "         [0.7577519 , 0.17901029, 0.93223864, 0.22080828],\n",
              "         [0.6655439 , 0.10607901, 0.8305295 , 0.1435298 ],\n",
              "         [0.27024087, 0.22679253, 0.31262407, 0.24412782],\n",
              "         [0.58535445, 0.14875172, 0.6264499 , 0.16340603],\n",
              "         [0.5494816 , 0.40055242, 0.58061236, 0.41305992],\n",
              "         [0.5594632 , 0.08262276, 0.6163619 , 0.10014246],\n",
              "         [0.566029  , 0.04674841, 0.60591006, 0.05656548],\n",
              "         [0.38016513, 0.44117975, 0.40496787, 0.4547547 ],\n",
              "         [0.26762834, 0.23022711, 0.28826785, 0.24292699],\n",
              "         [0.5527392 , 0.4103293 , 0.5788219 , 0.4223552 ],\n",
              "         [0.540165  , 0.27863082, 0.55918235, 0.28573188],\n",
              "         [0.37860528, 0.44384935, 0.40379313, 0.46327332],\n",
              "         [0.5453978 , 0.26882264, 0.5596671 , 0.27423343],\n",
              "         [0.55991733, 0.04833854, 0.604886  , 0.06135786],\n",
              "         [0.37009814, 0.3622237 , 0.39857864, 0.37559506],\n",
              "         [0.44095993, 0.8004512 , 0.47162166, 0.8123496 ],\n",
              "         [0.5525416 , 0.3937197 , 0.5764405 , 0.40181115],\n",
              "         [0.43470564, 0.8081026 , 0.47091332, 0.82492733],\n",
              "         [0.25624236, 0.2205322 , 0.26967102, 0.23331945],\n",
              "         [0.46743768, 0.19759719, 0.4837491 , 0.2048672 ],\n",
              "         [0.58080757, 0.15399441, 0.62211543, 0.16893995],\n",
              "         [0.36903512, 0.36680606, 0.39655048, 0.38646165],\n",
              "         [0.5426014 , 0.29234383, 0.5555205 , 0.29804757],\n",
              "         [0.5569168 , 0.6639839 , 0.570056  , 0.68163604],\n",
              "         [0.43691283, 0.8033142 , 0.45687106, 0.81274843],\n",
              "         [0.42502365, 0.8016275 , 0.47078705, 0.81718695],\n",
              "         [0.4683919 , 0.18492945, 0.4848928 , 0.19184314],\n",
              "         [0.5648753 , 0.08694614, 0.61842006, 0.11042271],\n",
              "         [0.5589068 , 0.07875969, 0.60292125, 0.08814494],\n",
              "         [0.43385267, 0.80860853, 0.45471364, 0.82230985],\n",
              "         [0.5501051 , 0.26940992, 0.5680741 , 0.27599987],\n",
              "         [0.5564328 , 0.40638387, 0.59037   , 0.42226672],\n",
              "         [0.46331716, 0.2460986 , 0.4759446 , 0.25448564],\n",
              "         [0.52342457, 0.26519814, 0.5313643 , 0.26951697],\n",
              "         [0.46970105, 0.23153405, 0.48151314, 0.2385466 ],\n",
              "         [0.48811048, 0.8954254 , 0.49962908, 0.9029632 ],\n",
              "         [0.37317452, 0.43896896, 0.39760315, 0.45798206],\n",
              "         [0.570117  , 0.03528993, 0.59128577, 0.04225206],\n",
              "         [0.48165295, 0.52058417, 0.49787888, 0.5281059 ],\n",
              "         [0.46816325, 0.21363997, 0.48242363, 0.22064832],\n",
              "         [0.4720806 , 0.2605036 , 0.48399726, 0.26709092],\n",
              "         [0.47094443, 0.15029813, 0.4831605 , 0.1567948 ],\n",
              "         [0.49064028, 0.895299  , 0.5075629 , 0.9033771 ],\n",
              "         [0.54897594, 0.3924412 , 0.5601001 , 0.39812535],\n",
              "         [0.46652123, 0.16679502, 0.48217154, 0.17478687],\n",
              "         [0.5955121 , 0.13596474, 0.6239212 , 0.14901613],\n",
              "         [0.58959347, 0.15039046, 0.6107715 , 0.15991022],\n",
              "         [0.60128134, 0.10978134, 0.6216727 , 0.12573749],\n",
              "         [0.61015594, 0.27851373, 0.6240861 , 0.28647047],\n",
              "         [0.56113976, 0.66062   , 0.57155645, 0.67005527],\n",
              "         [0.5248232 , 0.29460624, 0.53258693, 0.299284  ],\n",
              "         [0.5569168 , 0.6639839 , 0.570056  , 0.68163604],\n",
              "         [0.5704923 , 0.6587255 , 0.581636  , 0.6697248 ],\n",
              "         [0.58535445, 0.14875172, 0.6264499 , 0.16340603],\n",
              "         [0.37284496, 0.44493642, 0.38757962, 0.46167073],\n",
              "         [0.5024417 , 0.5238173 , 0.5137288 , 0.52940583],\n",
              "         [0.9136237 , 0.18429884, 0.9544493 , 0.2086668 ],\n",
              "         [0.52486074, 0.28131893, 0.5333294 , 0.28642705],\n",
              "         [0.37350237, 0.44120163, 0.3889236 , 0.45244837],\n",
              "         [0.56475854, 0.6611263 , 0.57833457, 0.6816363 ],\n",
              "         [0.47285798, 0.11208567, 0.48621014, 0.12374763],\n",
              "         [0.27024087, 0.22679253, 0.31262407, 0.24412782],\n",
              "         [0.5528288 , 0.40441212, 0.5649209 , 0.41171888],\n",
              "         [0.48199153, 0.2929203 , 0.49360418, 0.2987507 ],\n",
              "         [0.5221942 , 0.3600859 , 0.5304036 , 0.3648609 ],\n",
              "         [0.38016513, 0.44117975, 0.40496787, 0.4547547 ],\n",
              "         [0.56040573, 0.04236854, 0.5961497 , 0.05750095],\n",
              "         [0.47605523, 0.27925992, 0.4892398 , 0.2866357 ],\n",
              "         [0.54412884, 0.3447939 , 0.55349773, 0.34946176],\n",
              "         [0.43470564, 0.8081026 , 0.47091332, 0.82492733],\n",
              "         [0.44095993, 0.8004512 , 0.47162166, 0.8123496 ],\n",
              "         [0.5603037 , 0.08850084, 0.5845596 , 0.09838072],\n",
              "         [0.38371775, 0.30703357, 0.39898574, 0.3162352 ],\n",
              "         [0.45574343, 0.45427966, 0.47524247, 0.46401727],\n",
              "         [0.5427738 , 0.35842684, 0.55274624, 0.3637555 ],\n",
              "         [0.5563792 , 0.4271475 , 0.57286775, 0.43837243],\n",
              "         [0.44095993, 0.8004512 , 0.47162166, 0.8123496 ],\n",
              "         [0.4533462 , 0.8279256 , 0.4705866 , 0.84905   ],\n",
              "         [0.56686765, 0.04855441, 0.5819758 , 0.05439001],\n",
              "         [0.44095993, 0.8004512 , 0.47162166, 0.8123496 ],\n",
              "         [0.46331716, 0.2460986 , 0.4759446 , 0.25448564],\n",
              "         [0.45574343, 0.45427966, 0.47524247, 0.46401727],\n",
              "         [0.5494816 , 0.40055242, 0.58061236, 0.41305992],\n",
              "         [0.41536906, 0.24369888, 0.4412753 , 0.25700232],\n",
              "         [0.39130926, 0.44166958, 0.41592887, 0.45443213],\n",
              "         [0.53623015, 0.475709  , 0.5459856 , 0.48268542],\n",
              "         [0.6169572 , 0.6131296 , 0.63315016, 0.6343843 ],\n",
              "         [0.47410846, 0.5129332 , 0.4969357 , 0.52017957],\n",
              "         [0.48543465, 0.40755546, 0.49645922, 0.41452473],\n",
              "         [0.48210573, 0.41677362, 0.49383035, 0.42497855],\n",
              "         [0.4720806 , 0.2605036 , 0.48399726, 0.26709092],\n",
              "         [0.38377497, 0.43068933, 0.40009317, 0.44109035],\n",
              "         [0.6248881 , 0.27973524, 0.6405189 , 0.28798428],\n",
              "         [0.52324677, 0.34519795, 0.5306141 , 0.3493171 ],\n",
              "         [0.4631314 , 0.5057859 , 0.47642002, 0.51257473],\n",
              "         [0.4290087 , 0.5734926 , 0.4444679 , 0.5809838 ],\n",
              "         [0.48811048, 0.8954254 , 0.49962908, 0.9029632 ],\n",
              "         [0.5569168 , 0.6639839 , 0.570056  , 0.68163604],\n",
              "         [0.57690555, 0.5993054 , 0.5863913 , 0.6090938 ]]], dtype=float32),\n",
              " 'detection_classes': array([[38.,  1.,  1., 38.,  1.,  1.,  1.,  1., 38., 38.,  1.,  1., 38.,\n",
              "          1.,  1., 38.,  1.,  1.,  1., 38.,  1.,  1., 38.,  1., 16.,  1.,\n",
              "          1.,  1.,  1.,  1.,  1.,  1.,  1.,  1.,  1.,  1.,  1., 38.,  1.,\n",
              "          1.,  1.,  1.,  1.,  1.,  1.,  1.,  1.,  1.,  1.,  1., 16.,  1.,\n",
              "          1., 16., 42., 38.,  1.,  1.,  1., 38., 16.,  1.,  1.,  1.,  1.,\n",
              "          1.,  1.,  1.,  1.,  1., 42., 16.,  1., 38.,  1.,  1.,  1., 42.,\n",
              "          1.,  1.,  9., 38., 38., 42., 38., 38.,  1., 16.,  1.,  1.,  1.,\n",
              "         38., 38.,  1.,  1.,  1.,  1., 16., 42., 16.]], dtype=float32),\n",
              " 'detection_multiclass_scores': array([[[2.6647955e-02, 6.7353547e-03, 1.0136604e-02, ...,\n",
              "          5.4731234e-05, 1.1623502e-03, 1.5093386e-03],\n",
              "         [7.5822091e-01, 2.2130907e-03, 5.1864386e-03, ...,\n",
              "          3.7735701e-03, 1.4530718e-03, 1.4238656e-03],\n",
              "         [5.9322250e-01, 4.6408176e-03, 9.4313920e-03, ...,\n",
              "          4.7521591e-03, 1.8152297e-03, 2.1156371e-03],\n",
              "         ...,\n",
              "         [1.6337320e-01, 4.5015514e-03, 1.0000944e-02, ...,\n",
              "          8.0166459e-03, 6.1610341e-04, 1.3703108e-03],\n",
              "         [1.3729119e-01, 5.6334734e-03, 1.7359436e-02, ...,\n",
              "          1.0818332e-02, 8.7824464e-04, 2.1194518e-03],\n",
              "         [8.3486229e-02, 3.5068989e-03, 8.4188879e-03, ...,\n",
              "          5.2172542e-03, 5.6159496e-04, 1.0262728e-03]]], dtype=float32),\n",
              " 'detection_scores': array([[0.77643853, 0.7582209 , 0.5932225 , 0.47021118, 0.44680154,\n",
              "         0.4299087 , 0.40158972, 0.40004098, 0.39225566, 0.38461652,\n",
              "         0.34297132, 0.32713956, 0.30904472, 0.30849993, 0.3056087 ,\n",
              "         0.28367305, 0.27773613, 0.25157505, 0.24601227, 0.22944716,\n",
              "         0.22223732, 0.22140443, 0.21711195, 0.21513432, 0.21375158,\n",
              "         0.20890287, 0.19561744, 0.19486871, 0.1859169 , 0.18211502,\n",
              "         0.1817548 , 0.1807242 , 0.17702484, 0.17226306, 0.17155   ,\n",
              "         0.1664269 , 0.1633732 , 0.16328788, 0.16123888, 0.15921035,\n",
              "         0.1579788 , 0.15577516, 0.15384457, 0.15336025, 0.14976299,\n",
              "         0.14928693, 0.14632791, 0.14607772, 0.14341095, 0.14074808,\n",
              "         0.13797498, 0.13743392, 0.1372912 , 0.13238353, 0.13233423,\n",
              "         0.1313388 , 0.13065138, 0.13063169, 0.13054663, 0.12925422,\n",
              "         0.12811312, 0.1268178 , 0.12412637, 0.12360281, 0.12336206,\n",
              "         0.1207329 , 0.12055445, 0.12028465, 0.11735892, 0.11703488,\n",
              "         0.11513385, 0.11510232, 0.11424074, 0.11398685, 0.1136176 ,\n",
              "         0.11332884, 0.11312369, 0.11282799, 0.10948831, 0.10780105,\n",
              "         0.10765681, 0.10764986, 0.10712224, 0.10708514, 0.10497901,\n",
              "         0.1048196 , 0.10432485, 0.10361573, 0.10296896, 0.10266948,\n",
              "         0.10196841, 0.09999856, 0.09999269, 0.09899992, 0.09830076,\n",
              "         0.09809259, 0.09799948, 0.09781778, 0.09670722, 0.0954594 ]],\n",
              "       dtype=float32),\n",
              " 'num_detections': array([100.], dtype=float32),\n",
              " 'raw_detection_boxes': array([[[ 0.31272122,  0.0101201 ,  0.33705607,  0.0101201 ],\n",
              "         [ 0.00190663,  0.00346941,  0.03531124,  0.0395136 ],\n",
              "         [-0.01103815, -0.03304885,  0.06890544,  0.03001907],\n",
              "         ...,\n",
              "         [ 0.30948335,  0.488789  ,  1.4518454 ,  1.1628709 ],\n",
              "         [ 0.18462223,  0.3870787 ,  1.6440728 ,  1.1713135 ],\n",
              "         [-0.1306215 ,  0.22857487,  1.8146622 ,  1.2477608 ]]],\n",
              "       dtype=float32),\n",
              " 'raw_detection_scores': array([[[1.3937768e-01, 3.4520507e-02, 9.8884761e-02, ...,\n",
              "          6.4774454e-03, 3.7953854e-03, 6.0741603e-03],\n",
              "         [5.2639246e-03, 1.9519627e-03, 4.7032237e-03, ...,\n",
              "          4.3818355e-04, 6.5216422e-04, 4.7862530e-04],\n",
              "         [3.6919117e-04, 1.7446280e-04, 2.5618076e-04, ...,\n",
              "          2.5655929e-05, 2.0095706e-04, 5.0116600e-05],\n",
              "         ...,\n",
              "         [2.4507940e-03, 6.4563751e-04, 9.1576576e-04, ...,\n",
              "          8.3810091e-04, 1.2804568e-03, 1.6953647e-03],\n",
              "         [2.6269257e-03, 6.7299604e-04, 1.0024905e-03, ...,\n",
              "          9.7313523e-04, 1.3144314e-03, 1.5921295e-03],\n",
              "         [3.1892657e-03, 5.4952502e-04, 8.4292889e-04, ...,\n",
              "          1.0907054e-03, 1.1644363e-03, 1.3131499e-03]]], dtype=float32)}"
            ]
          },
          "execution_count": 10,
          "metadata": {},
          "output_type": "execute_result"
        }
      ]
    },
    {
      "cell_type": "code",
      "metadata": {
        "id": "EbGR5apoooMs"
      },
      "source": [
        "PATH_TO_LABELS = '/content/models/research/object_detection/data/mscoco_label_map.pbtxt'\n",
        "category_index = label_map_util.create_category_index_from_labelmap(PATH_TO_LABELS, use_display_name=True)"
      ],
      "execution_count": null,
      "outputs": []
    },
    {
      "cell_type": "code",
      "metadata": {
        "colab": {
          "base_uri": "https://localhost:8080/",
          "height": 232
        },
        "id": "XPgpBb5u6p6h",
        "outputId": "9f863f76-eddd-48ad-ac81-9ff22dff3437"
      },
      "source": [
        "# Handle models with masks:\n",
        "image_np_with_mask = np.reshape(img, (1, 926, 1379, 3))\n",
        "\n",
        "if 'detection_masks' in result:\n",
        "  # we need to convert np.arrays to tensors\n",
        "  detection_masks = tf.convert_to_tensor(result['detection_masks'][0])\n",
        "  detection_boxes = tf.convert_to_tensor(result['detection_boxes'][0])\n",
        "\n",
        "  # Reframe the the bbox mask to the image size.\n",
        "  detection_masks_reframed = utils_ops.reframe_box_masks_to_image_masks(\n",
        "            detection_masks, detection_boxes,\n",
        "              image_np.shape[1], image_np.shape[2])\n",
        "  detection_masks_reframed = tf.cast(detection_masks_reframed > 0.5,\n",
        "                                      tf.uint8)\n",
        "  result['detection_masks_reframed'] = detection_masks_reframed.numpy()\n",
        "\n",
        "viz_utils.visualize_boxes_and_labels_on_image_array(\n",
        "      image_np_with_mask[0],\n",
        "      result['detection_boxes'][0],\n",
        "      (result['detection_classes'][0] + label_id_offset).astype(int),\n",
        "      result['detection_scores'][0],\n",
        "      category_index,\n",
        "      use_normalized_coordinates=True,\n",
        "      max_boxes_to_draw=200,\n",
        "      min_score_thresh=.30,\n",
        "      agnostic_mode=False,\n",
        "      instance_masks=result.get('detection_masks_reframed', None),\n",
        "      line_thickness=8)\n",
        "\n",
        "plt.figure(figsize=(24,32))\n",
        "plt.imshow(image_np_with_mask[0])\n",
        "plt.show()"
      ],
      "execution_count": null,
      "outputs": [
        {
          "ename": "NameError",
          "evalue": "ignored",
          "output_type": "error",
          "traceback": [
            "\u001b[0;31m---------------------------------------------------------------------------\u001b[0m",
            "\u001b[0;31mNameError\u001b[0m                                 Traceback (most recent call last)",
            "\u001b[0;32m<ipython-input-13-e743a4a9946e>\u001b[0m in \u001b[0;36m<module>\u001b[0;34m()\u001b[0m\n\u001b[1;32m     18\u001b[0m       \u001b[0mimage_np_with_mask\u001b[0m\u001b[0;34m[\u001b[0m\u001b[0;36m0\u001b[0m\u001b[0;34m]\u001b[0m\u001b[0;34m,\u001b[0m\u001b[0;34m\u001b[0m\u001b[0;34m\u001b[0m\u001b[0m\n\u001b[1;32m     19\u001b[0m       \u001b[0mresult\u001b[0m\u001b[0;34m[\u001b[0m\u001b[0;34m'detection_boxes'\u001b[0m\u001b[0;34m]\u001b[0m\u001b[0;34m[\u001b[0m\u001b[0;36m0\u001b[0m\u001b[0;34m]\u001b[0m\u001b[0;34m,\u001b[0m\u001b[0;34m\u001b[0m\u001b[0;34m\u001b[0m\u001b[0m\n\u001b[0;32m---> 20\u001b[0;31m       \u001b[0;34m(\u001b[0m\u001b[0mresult\u001b[0m\u001b[0;34m[\u001b[0m\u001b[0;34m'detection_classes'\u001b[0m\u001b[0;34m]\u001b[0m\u001b[0;34m[\u001b[0m\u001b[0;36m0\u001b[0m\u001b[0;34m]\u001b[0m \u001b[0;34m+\u001b[0m \u001b[0mlabel_id_offset\u001b[0m\u001b[0;34m)\u001b[0m\u001b[0;34m.\u001b[0m\u001b[0mastype\u001b[0m\u001b[0;34m(\u001b[0m\u001b[0mint\u001b[0m\u001b[0;34m)\u001b[0m\u001b[0;34m,\u001b[0m\u001b[0;34m\u001b[0m\u001b[0;34m\u001b[0m\u001b[0m\n\u001b[0m\u001b[1;32m     21\u001b[0m       \u001b[0mresult\u001b[0m\u001b[0;34m[\u001b[0m\u001b[0;34m'detection_scores'\u001b[0m\u001b[0;34m]\u001b[0m\u001b[0;34m[\u001b[0m\u001b[0;36m0\u001b[0m\u001b[0;34m]\u001b[0m\u001b[0;34m,\u001b[0m\u001b[0;34m\u001b[0m\u001b[0;34m\u001b[0m\u001b[0m\n\u001b[1;32m     22\u001b[0m       \u001b[0mcategory_index\u001b[0m\u001b[0;34m,\u001b[0m\u001b[0;34m\u001b[0m\u001b[0;34m\u001b[0m\u001b[0m\n",
            "\u001b[0;31mNameError\u001b[0m: name 'label_id_offset' is not defined"
          ]
        }
      ]
    },
    {
      "cell_type": "code",
      "metadata": {
        "colab": {
          "base_uri": "https://localhost:8080/"
        },
        "id": "FBtixt-N0JEE",
        "outputId": "e2e64f78-9e93-455c-ef8a-83ed1341d6af"
      },
      "source": [
        "!curl -L \"https://public.roboflow.com/ds/QW7s6FWFz2?key=338vuOF3bs\" > roboflow.zip; unzip roboflow.zip; rm roboflow.zip"
      ],
      "execution_count": null,
      "outputs": [
        {
          "name": "stdout",
          "output_type": "stream",
          "text": [
            "  % Total    % Received % Xferd  Average Speed   Time    Time     Time  Current\n",
            "                                 Dload  Upload   Total   Spent    Left  Speed\n",
            "100   883  100   883    0     0   1431      0 --:--:-- --:--:-- --:--:--  1428\n",
            "100 38.2M  100 38.2M    0     0  34.7M      0  0:00:01  0:00:01 --:--:-- 34.7M\n",
            "Archive:  roboflow.zip\n",
            "replace README.dataset.txt? [y]es, [n]o, [A]ll, [N]one, [r]ename: y\n",
            " extracting: README.dataset.txt      \n",
            "replace README.roboflow.txt? [y]es, [n]o, [A]ll, [N]one, [r]ename: y\n",
            " extracting: README.roboflow.txt     \n",
            "replace test/vehicles.tfrecord? [y]es, [n]o, [A]ll, [N]one, [r]ename: y\n",
            " extracting: test/vehicles.tfrecord  \n",
            "replace test/vehicles_label_map.pbtxt? [y]es, [n]o, [A]ll, [N]one, [r]ename: y\n",
            " extracting: test/vehicles_label_map.pbtxt  \n",
            "replace train/vehicles.tfrecord? [y]es, [n]o, [A]ll, [N]one, [r]ename: y\n",
            " extracting: train/vehicles.tfrecord  \n",
            "replace train/vehicles_label_map.pbtxt? [y]es, [n]o, [A]ll, [N]one, [r]ename: y\n",
            " extracting: train/vehicles_label_map.pbtxt  \n",
            "replace valid/vehicles.tfrecord? [y]es, [n]o, [A]ll, [N]one, [r]ename: y\n",
            " extracting: valid/vehicles.tfrecord  \n",
            "replace valid/vehicles_label_map.pbtxt? [y]es, [n]o, [A]ll, [N]one, [r]ename: y\n",
            " extracting: valid/vehicles_label_map.pbtxt  \n"
          ]
        }
      ]
    },
    {
      "cell_type": "code",
      "metadata": {
        "id": "AwOP2hNq3o-w"
      },
      "source": [
        "y%ls"
      ],
      "execution_count": null,
      "outputs": []
    },
    {
      "cell_type": "code",
      "metadata": {
        "id": "Dj5Vau1s9-wh"
      },
      "source": [
        ""
      ],
      "execution_count": null,
      "outputs": []
    }
  ]
}